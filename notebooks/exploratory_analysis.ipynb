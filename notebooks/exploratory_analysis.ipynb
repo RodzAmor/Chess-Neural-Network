{
 "cells": [
  {
   "cell_type": "markdown",
   "metadata": {},
   "source": [
    "### Exploratory Data Analysis\n",
    "\n",
    "Before building the neural network model, we will take a look at the pgn data from the chess games in order to have a deeper understanding of the data and can take a better approach to the network architecture. This is also included to provide a look on the formatting of the data and how the data science pipeline process can be streamlined with the pgn files into the creation of a valid model.\n",
    "\n",
    "In this case, we will be using the sample.pgn file for the data analysis. This file is a much smaller subset of the actual file which has data on 100,000,000+ games."
   ]
  },
  {
   "cell_type": "code",
   "execution_count": null,
   "metadata": {},
   "outputs": [],
   "source": [
    "import pandas as pd\n",
    "\n",
    "file_path = \"data/processed/games.pgn\"\n"
   ]
  }
 ],
 "metadata": {
  "language_info": {
   "name": "python"
  },
  "orig_nbformat": 4
 },
 "nbformat": 4,
 "nbformat_minor": 2
}
